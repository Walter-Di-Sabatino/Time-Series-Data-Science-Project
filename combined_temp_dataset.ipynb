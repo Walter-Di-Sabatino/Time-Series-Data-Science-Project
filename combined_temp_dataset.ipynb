{
 "cells": [
  {
   "cell_type": "code",
   "execution_count": 2,
   "metadata": {},
   "outputs": [],
   "source": [
    "import pandas as pd\n",
    "import numpy as np\n",
    "\n",
    "# Carica i dataset\n",
    "dataset_x = [pd.read_csv(f'dataset/{x}.csv') for x in range(2009, 2019)]"
   ]
  },
  {
   "cell_type": "code",
   "execution_count": 3,
   "metadata": {},
   "outputs": [
    {
     "name": "stdout",
     "output_type": "stream",
     "text": [
      "La migliore rotta in assoluto è:\n",
      "NUM_FLIGHTS    148348\n",
      "ORIGIN            SFO\n",
      "DEST              LAX\n",
      "Name: 4117, dtype: object\n"
     ]
    }
   ],
   "source": [
    "# Inizializza un dizionario per contare i voli\n",
    "route_counts = {}\n",
    "\n",
    "for df in dataset_x:\n",
    "    # Raggruppa per rotta e conta i voli\n",
    "    yearly_counts = df.groupby(['ORIGIN', 'DEST']).size()\n",
    "    \n",
    "    # Aggiorna il conteggio globale\n",
    "    for route, count in yearly_counts.items():\n",
    "        if route in route_counts:\n",
    "            route_counts[route] += count\n",
    "        else:\n",
    "            route_counts[route] = count\n",
    "\n",
    "# Converti i dati aggregati in un DataFrame\n",
    "final_grouped_data = (\n",
    "    pd.DataFrame(route_counts.items(), columns=['ROUTE', 'NUM_FLIGHTS'])\n",
    "    .assign(ORIGIN=lambda df: df['ROUTE'].str[0], DEST=lambda df: df['ROUTE'].str[1])\n",
    "    .drop(columns=['ROUTE'])\n",
    ")\n",
    "\n",
    "# Trova la rotta con il maggior numero di voli\n",
    "best_route_overall = final_grouped_data.sort_values(by='NUM_FLIGHTS', ascending=False).iloc[0]\n",
    "\n",
    "# Salva tutti i voli della migliore rotta\n",
    "best_route_data = []\n",
    "for df in dataset_x:\n",
    "    # Filtra solo i voli della migliore rotta\n",
    "    best_route_data.append(\n",
    "        df[(df['ORIGIN'] == best_route_overall['ORIGIN']) & \n",
    "           (df['DEST'] == best_route_overall['DEST'])]\n",
    "    )\n",
    "\n",
    "# Combina i dati della rotta migliore\n",
    "final_route_data = pd.concat(best_route_data, ignore_index=True)\n",
    "\n",
    "# Salva su file\n",
    "final_route_data.to_csv('dataset/best_route_flights.csv', index=False)\n",
    "\n",
    "# Stampa il risultato\n",
    "print(\"La migliore rotta in assoluto è:\")\n",
    "print(best_route_overall)"
   ]
  }
 ],
 "metadata": {
  "kernelspec": {
   "display_name": "Python 3",
   "language": "python",
   "name": "python3"
  },
  "language_info": {
   "codemirror_mode": {
    "name": "ipython",
    "version": 3
   },
   "file_extension": ".py",
   "mimetype": "text/x-python",
   "name": "python",
   "nbconvert_exporter": "python",
   "pygments_lexer": "ipython3",
   "version": "3.12.3"
  }
 },
 "nbformat": 4,
 "nbformat_minor": 2
}
