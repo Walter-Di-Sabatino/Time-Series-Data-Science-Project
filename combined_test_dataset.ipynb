{
 "cells": [
  {
   "cell_type": "code",
   "execution_count": 2,
   "metadata": {},
   "outputs": [],
   "source": [
    "import pandas as pd\n",
    "import numpy as np\n",
    "\n",
    "# Carica i dataset\n",
    "dataset_x = [pd.read_csv(f'dataset/{x}.csv') for x in range(2009, 2019)]\n",
    "dataset_y =  pd.read_csv('dataset/flights.csv')"
   ]
  },
  {
   "cell_type": "code",
   "execution_count": 5,
   "metadata": {},
   "outputs": [],
   "source": [
    "final_data = []\n",
    "proportion = 0.001\n",
    "\n",
    "for df in dataset_x:\n",
    "\n",
    "    # Unisci df con dataset_y usando tutte le colonne come chiavi e seleziona solo le righe che non hanno corrispondenza\n",
    "    merged = df.merge(dataset_y, how='left', indicator=True)\n",
    "    df = merged[merged['_merge'] == 'left_only'].drop(columns=['_merge'])\n",
    "    del merged\n",
    "\n",
    "    df.drop_duplicates(inplace=True)\n",
    "    grouped = df.groupby('FL_DATE')\n",
    "    \n",
    "    selected_rows = []\n",
    "    for _, day_group in grouped:\n",
    "        day_selected = []\n",
    "        \n",
    "        # Raggruppa per 'OP_CARRIER' all'interno di ogni giorno\n",
    "        carrier_grouped = day_group.groupby('OP_CARRIER')\n",
    "        \n",
    "        for _, carrier_group in carrier_grouped:\n",
    "            proportionate_sample_size = int(len(carrier_group) * proportion)\n",
    "            \n",
    "            if(proportionate_sample_size > 0):\n",
    "                sampled = carrier_group.sample(n=proportionate_sample_size, replace=False, random_state=np.random.randint(0, 1000))\n",
    "                day_selected.append(sampled)\n",
    "            else:\n",
    "                break\n",
    "        \n",
    "        if(len(day_selected) == len(carrier_grouped)): \n",
    "            day_selected_data = pd.concat(day_selected)\n",
    "            selected_rows.append(day_selected_data)\n",
    "        else:\n",
    "            proportionate_sample_size = int(len(day_group) * proportion)\n",
    "            replace = None\n",
    "            # Verifica se ci sono abbastanza elementi per un campionamento senza ripetizione\n",
    "            if len(day_group) < proportionate_sample_size:\n",
    "                replace = True  # Usare il campionamento con ripetizione\n",
    "            else:\n",
    "                replace = False  # Usare il campionamento senza ripetizione\n",
    "\n",
    "            # Esegui il campionamento\n",
    "            sampled = day_group.sample(n=proportionate_sample_size, replace=replace, random_state=np.random.randint(0, 1000))\n",
    "            day_selected_data = pd.concat([sampled])\n",
    "            selected_rows.append(day_selected_data)\n",
    "    \n",
    "    # Combina i campioni di ogni giorno\n",
    "    selected_data = pd.concat(selected_rows)\n",
    "    \n",
    "    final_data.append(selected_data)\n",
    "\n",
    "# Combina tutti i dati selezionati\n",
    "final_combined_data = pd.concat(final_data, ignore_index=True)\n",
    "final_combined_data.to_csv('dataset/test_flights.csv', index=False)"
   ]
  }
 ],
 "metadata": {
  "kernelspec": {
   "display_name": "Python 3",
   "language": "python",
   "name": "python3"
  },
  "language_info": {
   "codemirror_mode": {
    "name": "ipython",
    "version": 3
   },
   "file_extension": ".py",
   "mimetype": "text/x-python",
   "name": "python",
   "nbconvert_exporter": "python",
   "pygments_lexer": "ipython3",
   "version": "3.12.3"
  }
 },
 "nbformat": 4,
 "nbformat_minor": 2
}
