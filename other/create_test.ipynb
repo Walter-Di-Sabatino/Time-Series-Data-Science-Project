{
 "cells": [
  {
   "cell_type": "code",
   "execution_count": 1,
   "metadata": {},
   "outputs": [],
   "source": [
    "import pandas as pd"
   ]
  },
  {
   "cell_type": "code",
   "execution_count": 2,
   "metadata": {},
   "outputs": [],
   "source": [
    "df = pd.read_csv('dataset/obesity.csv')"
   ]
  },
  {
   "cell_type": "code",
   "execution_count": 3,
   "metadata": {},
   "outputs": [
    {
     "name": "stderr",
     "output_type": "stream",
     "text": [
      "<>:8: SyntaxWarning: invalid escape sequence '\\o'\n",
      "<>:9: SyntaxWarning: invalid escape sequence '\\o'\n",
      "<>:8: SyntaxWarning: invalid escape sequence '\\o'\n",
      "<>:9: SyntaxWarning: invalid escape sequence '\\o'\n",
      "C:\\Users\\dswal\\AppData\\Local\\Temp\\ipykernel_30152\\928541958.py:8: SyntaxWarning: invalid escape sequence '\\o'\n",
      "  sampled_df.to_csv('dataset\\obesity_test.csv', index=False)\n",
      "C:\\Users\\dswal\\AppData\\Local\\Temp\\ipykernel_30152\\928541958.py:9: SyntaxWarning: invalid escape sequence '\\o'\n",
      "  remaining_df.to_csv('dataset\\obesity_train.csv', index=False)\n",
      "C:\\Users\\dswal\\AppData\\Local\\Temp\\ipykernel_30152\\928541958.py:2: DeprecationWarning: DataFrameGroupBy.apply operated on the grouping columns. This behavior is deprecated, and in a future version of pandas the grouping columns will be excluded from the operation. Either pass `include_groups=False` to exclude the groupings or explicitly select the grouping columns after groupby to silence this warning.\n",
      "  sampled_df = df.groupby('Obesity').apply(lambda x: x.sample(n=30, random_state=42)).reset_index(drop=True)\n"
     ]
    }
   ],
   "source": [
    "# Selezioniamo 30 elementi per ciascuna etichetta nella colonna 'Obesity'\n",
    "sampled_df = df.groupby('Obesity').apply(lambda x: x.sample(n=30, random_state=42)).reset_index(drop=True)\n",
    "\n",
    "# Creiamo un dataframe con i rimanenti elementi\n",
    "remaining_df = df[~df.index.isin(sampled_df.index)]\n",
    "\n",
    "# Salviamo entrambi i dataframe in file CSV\n",
    "sampled_df.to_csv('dataset\\obesity_test.csv', index=False)\n",
    "remaining_df.to_csv('dataset\\obesity_train.csv', index=False)"
   ]
  }
 ],
 "metadata": {
  "kernelspec": {
   "display_name": "Python 3",
   "language": "python",
   "name": "python3"
  },
  "language_info": {
   "codemirror_mode": {
    "name": "ipython",
    "version": 3
   },
   "file_extension": ".py",
   "mimetype": "text/x-python",
   "name": "python",
   "nbconvert_exporter": "python",
   "pygments_lexer": "ipython3",
   "version": "3.12.3"
  }
 },
 "nbformat": 4,
 "nbformat_minor": 2
}
